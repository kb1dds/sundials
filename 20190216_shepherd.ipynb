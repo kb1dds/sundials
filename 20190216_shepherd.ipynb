{
 "cells": [
  {
   "cell_type": "markdown",
   "metadata": {},
   "source": [
    "# Shepherd's cylinder sundial generator\n",
    "\n",
    "Michael Robinson"
   ]
  },
  {
   "cell_type": "code",
   "execution_count": 1,
   "metadata": {},
   "outputs": [],
   "source": [
    "import numpy as np\n",
    "import matplotlib.pyplot as plt"
   ]
  },
  {
   "cell_type": "markdown",
   "metadata": {},
   "source": [
    "## Basic parameters"
   ]
  },
  {
   "cell_type": "code",
   "execution_count": 2,
   "metadata": {},
   "outputs": [],
   "source": [
    "latitude = 39 # degrees N"
   ]
  },
  {
   "cell_type": "code",
   "execution_count": 3,
   "metadata": {},
   "outputs": [],
   "source": [
    "chart_height = 1.75 # inches\n",
    "cylinder_diameter = 3.0/8.0 # inches\n",
    "hours_displayed = [6,7,8,9,10,11,12]\n",
    "month_tick_length = 0.25 # inches\n",
    "day_tick_length = month_tick_length/4.0"
   ]
  },
  {
   "cell_type": "code",
   "execution_count": 4,
   "metadata": {},
   "outputs": [],
   "source": [
    "equinox_day = 31+28+20 # Date of equinox\n",
    "solar_inclination = 23.4 # degrees"
   ]
  },
  {
   "cell_type": "markdown",
   "metadata": {},
   "source": [
    "## Convenience functions"
   ]
  },
  {
   "cell_type": "code",
   "execution_count": 5,
   "metadata": {},
   "outputs": [],
   "source": [
    "def sun_ra(n):\n",
    "    '''Compute right ascension (in radians) of the sun from its day n past 1 January 2000.\n",
    "    \n",
    "    Source https://en.wikipedia.org/wiki/Position_of_the_Sun\n",
    "    '''\n",
    "    L=280.460 +0.9856003*n\n",
    "    g=357.528+0.9856003*n\n",
    "    lam=L + 1.915*np.sin(g*np.pi/180)+0.02*np.sin(2*np.pi/180*g)\n",
    "    eps=23.439+0.00000004*n\n",
    "    ra=np.arctan2(np.cos(eps*np.pi/180)*np.sin(lam*np.pi/180),np.cos(lam*np.pi/180))\n",
    "    return ra"
   ]
  },
  {
   "cell_type": "code",
   "execution_count": 6,
   "metadata": {},
   "outputs": [],
   "source": [
    "def eq_of_time(D):\n",
    "    '''Compute equation of time (minutes) for day D\n",
    "    \n",
    "    Source https://en.wikipedia.org/wiki/Equation_of_time\n",
    "    '''\n",
    "    M=6.24004077 + 0.01720197*D\n",
    "    dT = -7.659 * np.sin(M) + 9.863 * np.sin(2*M + 3.5932)\n",
    "    return dT"
   ]
  },
  {
   "cell_type": "markdown",
   "metadata": {},
   "source": [
    "## Calculations"
   ]
  },
  {
   "cell_type": "markdown",
   "metadata": {},
   "source": [
    "Days of the year setup"
   ]
  },
  {
   "cell_type": "code",
   "execution_count": 7,
   "metadata": {},
   "outputs": [],
   "source": [
    "days=np.arange(0,365) # Day numbers\n",
    "day_position=days/365*cylinder_diameter*np.pi # Position of days in inches along top of scale\n",
    "\n",
    "month_days=[31,28,31,30,31,30,31,31,30,31,30,31]\n",
    "month_names=['J','F','M','A','M','J','J','A','S','O','N','D']\n",
    "\n",
    "month_ticks=[0]\n",
    "for i in range(12):\n",
    "    month_ticks.append(month_days[i]*np.pi*cylinder_diameter/365+month_ticks[i])"
   ]
  },
  {
   "cell_type": "markdown",
   "metadata": {},
   "source": [
    "Sun elevations at each hour"
   ]
  },
  {
   "cell_type": "code",
   "execution_count": 8,
   "metadata": {},
   "outputs": [],
   "source": [
    "sun_hours_elevations=[]\n",
    "\n",
    "for hour in hours_displayed:\n",
    "    hour_angle=(hour-12)/24*2*np.pi\n",
    "    \n",
    "    sun_hour_elevations=[]\n",
    "\n",
    "    for n in days:\n",
    "        tick_angle=sun_ra(n+0.5) # Angle of sun at noon\n",
    "\n",
    "        # Location of the sun on celestial sphere at noon\n",
    "        x=np.cos(tick_angle)\n",
    "        y=np.sin(tick_angle)*np.cos(solar_inclination*np.pi/180)\n",
    "        z=np.sin(tick_angle)*np.sin(solar_inclination*np.pi/180)\n",
    "        \n",
    "        # Local zenith vector at this hour\n",
    "        zx=np.cos(hour_angle+tick_angle)*np.cos(latitude*np.pi/180)\n",
    "        zy=np.sin(hour_angle+tick_angle)*np.cos(latitude*np.pi/180)\n",
    "        zz=np.sin(latitude*np.pi/180)\n",
    "        \n",
    "        # Compute sun elevation\n",
    "        sun_hour_elevation=np.pi/2-np.arccos(x*zx+y*zy+z*zz)\n",
    "        sun_hour_elevations.append(sun_hour_elevation)\n",
    "    sun_hours_elevations.append(np.array(sun_hour_elevations))"
   ]
  },
  {
   "cell_type": "markdown",
   "metadata": {},
   "source": [
    "## Drawing"
   ]
  },
  {
   "cell_type": "code",
   "execution_count": 9,
   "metadata": {},
   "outputs": [
    {
     "name": "stdout",
     "output_type": "stream",
     "text": [
      "Gnomon length 0.4853179521047175 inches = 12.327075983459824 mm\n"
     ]
    },
    {
     "data": {
      "image/png": "[encoded data removed]",
      "text/plain": [
       "<Figure size 432x288 with 1 Axes>"
      ]
     },
     "metadata": {
      "needs_background": "light"
     },
     "output_type": "display_data"
    }
   ],
   "source": [
    "gnomon_length=chart_height/np.tan((113.5-latitude)*np.pi/180)\n",
    "plt.figure()\n",
    "for sun_hour_elevations in sun_hours_elevations:\n",
    "    displacements=-gnomon_length*np.tan(sun_hour_elevations)\n",
    "    displacements[displacements>0]=0\n",
    "    plt.plot(day_position,displacements,'k')\n",
    "plt.plot([0,day_position[-1]],[0,0],'k')\n",
    "for i,month_tick in enumerate(month_ticks):\n",
    "    plt.plot([month_tick,month_tick],[month_tick_length,0],'k')\n",
    "    if i < 12:\n",
    "        plt.text(month_tick+7/365*cylinder_diameter*np.pi,month_tick_length-0.2,month_names[i])\n",
    "        \n",
    "plt.axis('equal');\n",
    "print('Gnomon length {} inches = {} mm'.format(gnomon_length,gnomon_length*25.4))\n",
    "plt.savefig('shepherd.svg')"
   ]
  }
 ],
 "metadata": {
  "kernelspec": {
   "display_name": "Python 3",
   "language": "python",
   "name": "python3"
  },
  "language_info": {
   "codemirror_mode": {
    "name": "ipython",
    "version": 3
   },
   "file_extension": ".py",
   "mimetype": "text/x-python",
   "name": "python",
   "nbconvert_exporter": "python",
   "pygments_lexer": "ipython3",
   "version": "3.5.2"
  }
 },
 "nbformat": 4,
 "nbformat_minor": 2
}
